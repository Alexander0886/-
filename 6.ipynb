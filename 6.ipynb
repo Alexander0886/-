{
  "nbformat": 4,
  "nbformat_minor": 0,
  "metadata": {
    "colab": {
      "provenance": []
    },
    "kernelspec": {
      "name": "python3",
      "display_name": "Python 3"
    },
    "language_info": {
      "name": "python"
    }
  },
  "cells": [
    {
      "cell_type": "markdown",
      "source": [
        "\n",
        "\n",
        "---\n",
        "\n"
      ],
      "metadata": {
        "id": "tKNG_RzWxG6g"
      }
    },
    {
      "cell_type": "markdown",
      "source": [
        "# **Дисклеймер**\n",
        "\n",
        "В данной практике будет введен дополнительный критерий: чистота и читаемость кода, а также соблюдение правил описанных в начале практики"
      ],
      "metadata": {
        "id": "cFcrKfclKWh0"
      }
    },
    {
      "cell_type": "markdown",
      "source": [
        "\n",
        "\n",
        "---\n",
        "\n"
      ],
      "metadata": {
        "id": "0SnE87X1xDlV"
      }
    },
    {
      "cell_type": "markdown",
      "source": [
        "# Задание 1\n",
        "\n",
        "**Задача:**\n",
        "\n",
        "Напишите функцию очищающий список от дубликтов\n",
        "\n",
        "\n",
        "*Запрещено:*\n",
        "\n",
        "*   Использовать set() или готовые функции очищающие список от дубликатов\n",
        "\n",
        "Вввод:\n",
        "\n",
        "```\n",
        "apple banana apple 1 3 4 4 5\n",
        "```\n",
        "\n",
        "\n",
        "Вывод:\n",
        "\n",
        "```\n",
        "apple banana 1 3 4 5\n",
        "```\n",
        "\n"
      ],
      "metadata": {
        "id": "VxawR9NubT_F"
      }
    },
    {
      "cell_type": "code",
      "source": [
        "def remove_duplicates(stroka):\n",
        "    slova = stroka.split()\n",
        "    result = []\n",
        "\n",
        "    for slovo in slova:\n",
        "        if slovo not in result:\n",
        "            result.append(slovo)\n",
        "\n",
        "    return result\n",
        "stroka = input(\"Введите предложение: \")\n",
        "print(\"Результат:\", remove_duplicates(stroka))\n"
      ],
      "metadata": {
        "id": "ml5gnbPXbeju",
        "colab": {
          "base_uri": "https://localhost:8080/"
        },
        "outputId": "b4fa68b3-2373-4ea2-9175-ffdd0f78ccba"
      },
      "execution_count": null,
      "outputs": [
        {
          "output_type": "stream",
          "name": "stdout",
          "text": [
            "Введите предложение: apple banana apple 1 3 4 4 5\n",
            "Результат: ['apple', 'banana', '1', '3', '4', '5']\n"
          ]
        }
      ]
    },
    {
      "cell_type": "markdown",
      "source": [
        "# Задание 2\n",
        "\n",
        "**Задача:**\n",
        "\n",
        "Написать функцию для нахождения простых чисел в диапазоне\n",
        "\n",
        "Ввод:\n",
        "\n",
        "```\n",
        "10, 50\n",
        "```\n",
        "\n",
        "Вывод:\n",
        "\n",
        "```\n",
        "11, 13, 17, 19, 23, 29, 31, 37, 41, 43, 47\n",
        "```"
      ],
      "metadata": {
        "id": "y05x0eD0cVCC"
      }
    },
    {
      "cell_type": "code",
      "source": [
        "def find_primes(start, end):\n",
        "    primes = []\n",
        "    for num in range(start, end + 1):\n",
        "        if num > 1:\n",
        "            is_prime = True\n",
        "            for i in range(2, int(num ** 0.5) + 1):\n",
        "                if num % i == 0:\n",
        "                    is_prime = False\n",
        "                    break\n",
        "            if is_prime:\n",
        "                primes.append(num)\n",
        "    return primes\n",
        "\n",
        "numbers = list(map(int, input(\"Введите два числа через запятую: \").split(',')))\n",
        "start, end = numbers[0], numbers[1]\n",
        "prime_numbers = find_primes(start, end)\n",
        "print(\"Простые числа:\", \", \".join(map(str, prime_numbers)))\n"
      ],
      "metadata": {
        "id": "XSMJnLgrc6Bf",
        "colab": {
          "base_uri": "https://localhost:8080/"
        },
        "outputId": "d6de7c16-7b01-4811-95e8-fbf9178db7d7"
      },
      "execution_count": null,
      "outputs": [
        {
          "output_type": "stream",
          "name": "stdout",
          "text": [
            "Введите два числа через запятую: 10, 50\n",
            "Простые числа: 11, 13, 17, 19, 23, 29, 31, 37, 41, 43, 47\n"
          ]
        }
      ]
    },
    {
      "cell_type": "markdown",
      "source": [
        "# Задание 3\n",
        "\n",
        "Напишите функцию для объединения двух списков (список ключей и список значении) в словарь\n",
        "\n",
        "*Запрещено:*\n",
        "\n",
        "*   Использования готовых функции для объединения списков (пример: zip() )\n",
        "\n",
        "Дано:\n",
        "\n",
        "```\n",
        "keys = ['a', 'b', 'c', 'e' ]\n",
        "values = [1, 2, 3, 4]\n",
        "```\n",
        "\n",
        "Вывод:\n",
        "```\n",
        "{'a': 1, 'b': 2, 'c': 3, 'e': 4}\n",
        "```\n",
        "\n",
        "\n"
      ],
      "metadata": {
        "id": "vYM0LyxxdElN"
      }
    },
    {
      "cell_type": "code",
      "source": [
        "def create_spis(keys, values):\n",
        "    result = {}\n",
        "    i = 0\n",
        "    while i < len(keys) and i < len(values):\n",
        "        result[keys[i]] = values[i]\n",
        "        i += 1\n",
        "    return result\n",
        "\n",
        "keys = ['a', 'b', 'c', 'e']\n",
        "values = [1, 2, 3, 4]\n",
        "spis = create_spis(keys, values)\n",
        "print(spis)\n"
      ],
      "metadata": {
        "id": "CRvhHTjCdvjS",
        "colab": {
          "base_uri": "https://localhost:8080/"
        },
        "outputId": "2f384278-89cc-4508-839c-37dd7aad1eac"
      },
      "execution_count": null,
      "outputs": [
        {
          "output_type": "stream",
          "name": "stdout",
          "text": [
            "{'a': 1, 'b': 2, 'c': 3, 'e': 4}\n"
          ]
        }
      ]
    },
    {
      "cell_type": "markdown",
      "source": [
        "# Задание 4\n",
        "\n",
        "Напишите функцию(ии) для подсчета статистических параметров:\n",
        "*   Сумму\n",
        "*   Среднее арифметическое\n",
        "*   Медиану\n",
        "*   Моду\n",
        "\n",
        "\n",
        "*Запрещено:*\n",
        "\n",
        "*   sum()\n",
        "*   sorted()\n",
        "*   и других функции предоставляющих готовое решение задания\n",
        "\n",
        "Дано:\n",
        "\n",
        "```\n",
        "numbers = [1, 2, 2, 3, 4, 5, 6, 7, 8 ,9 ,10]\n",
        "\n",
        "```\n",
        "\n",
        "Вывод:\n",
        "```\n",
        "{'mean': 5.181818181818182, 'median': 5, 'mode': 2, 'sum': 57}\n",
        "```\n"
      ],
      "metadata": {
        "id": "L_w8H8i-fQcP"
      }
    },
    {
      "cell_type": "code",
      "source": [
        "chisla = [1, 2, 2, 3, 4, 5, 6, 7, 8, 9, 10]\n",
        "\n",
        "def poschitat_sum(chisla):\n",
        "    summa = 0\n",
        "    for chislo in chisla:\n",
        "        summa += chislo\n",
        "    return summa\n",
        "\n",
        "def poschitat_srednee(chisla):\n",
        "    summa = poschitat_sum(chisla)\n",
        "    kolichestvo = 0\n",
        "    for _ in chisla:\n",
        "        kolichestvo += 1\n",
        "    return summa / kolichestvo\n",
        "\n",
        "def poschitat_mediana(chisla):\n",
        "    for i in range(len(chisla)):\n",
        "        for j in range(0, len(chisla) - i - 1):\n",
        "            if chisla[j] > chisla[j + 1]:\n",
        "                chisla[j], chisla[j + 1] = chisla[j + 1], chisla[j]\n",
        "\n",
        "    seredina = len(chisla) // 2\n",
        "    if len(chisla) % 2 == 0:\n",
        "        return (chisla[seredina - 1] + chisla[seredina]) / 2\n",
        "    else:\n",
        "        return chisla[seredina]\n",
        "\n",
        "def poschitat_modu(chisla):\n",
        "    chastota = {}\n",
        "    for chislo in chisla:\n",
        "        if chislo in chastota:\n",
        "            chastota[chislo] += 1\n",
        "        else:\n",
        "            chastota[chislo] = 1\n",
        "\n",
        "    max_chastota = 0\n",
        "    moda = None\n",
        "    for chislo, kolichestvo in chastota.items():\n",
        "        if kolichestvo > max_chastota:\n",
        "            max_chastota = kolichestvo\n",
        "            moda = chislo\n",
        "    return moda\n",
        "\n",
        "summa = poschitat_sum(chisla)\n",
        "srednee = poschitat_srednee(chisla)\n",
        "mediana = poschitat_mediana(chisla)\n",
        "moda = poschitat_modu(chisla)\n",
        "\n",
        "print ('Сумма всех чисел', summa)\n",
        "print ('Среднее значение:', srednee)\n",
        "print ('Мода', moda)\n",
        "print ('Медиана', mediana)\n"
      ],
      "metadata": {
        "id": "dW6jW_rjfuba",
        "colab": {
          "base_uri": "https://localhost:8080/"
        },
        "outputId": "a621c964-f607-48d9-a4aa-df5f7c3e4665"
      },
      "execution_count": null,
      "outputs": [
        {
          "output_type": "stream",
          "name": "stdout",
          "text": [
            "Сумма всех чисел 57\n",
            "Среднее значение: 5.181818181818182\n",
            "Мода 2\n",
            "Медиана 5\n"
          ]
        }
      ]
    },
    {
      "cell_type": "markdown",
      "source": [
        "# Задание 5\n",
        "\n",
        "На ввод поступает строка символов. Строка состоит из слов, которые отделены друг от друга пробелами. Необходимо вывести самое длинное слово и его порядковый номер.\n",
        "\n",
        "*Запрещено:*\n",
        "\n",
        "*   len()\n",
        "\n",
        "Дано:\n",
        "\n",
        "```\n",
        "Страдание и боль всегда обязательны для широкого сознания и глубокого сердца.\n",
        "\n",
        "```\n",
        "\n",
        "Вывод:\n",
        "```\n",
        "Самое длинное слово с номером 5: обязательны\n",
        "```"
      ],
      "metadata": {
        "id": "hZW0NZ7SgTcp"
      }
    },
    {
      "cell_type": "code",
      "source": [
        "words = [\"Страдание\", \"и\", \"боль\", \"всегда\", \"обязательны\", \"для\", \"широкого\", \"сознания\", \"и\", \"глубокого\", \"сердца\"]\n",
        "\n",
        "longest_word = \"\"\n",
        "longest_length = 0\n",
        "\n",
        "longest_index = 0\n",
        "current_index = 1\n",
        "\n",
        "for word in words:\n",
        "    current_length = 0\n",
        "    for char in word:\n",
        "        current_length += 1\n",
        "\n",
        "    if current_length > longest_length:\n",
        "        longest_word = word\n",
        "        longest_length = current_length\n",
        "        longest_index = current_index\n",
        "\n",
        "    current_index += 1\n",
        "\n",
        "print(f\"Самое длинное слово с номером {longest_index}: '{longest_word}'\")\n"
      ],
      "metadata": {
        "id": "rC5DpHHLsDYp",
        "colab": {
          "base_uri": "https://localhost:8080/"
        },
        "outputId": "d001f6db-56a3-4ddd-c261-f2b8f36d6834"
      },
      "execution_count": null,
      "outputs": [
        {
          "output_type": "stream",
          "name": "stdout",
          "text": [
            "Самое длинное слово с номером 5: 'обязательны'\n"
          ]
        }
      ]
    },
    {
      "cell_type": "code",
      "source": [],
      "metadata": {
        "id": "nTp1RhLzmEhw"
      },
      "execution_count": null,
      "outputs": []
    },
    {
      "cell_type": "markdown",
      "source": [
        "# Задание 6\n",
        "\n",
        "Напишите программу, для управления оценками студентов, со следующими функциями:\n",
        "\n",
        "* Добавление информации о студенте и его оценках.\n",
        "* Подсчет среднего балла студента.\n",
        "* Получение списка всех студентов с их средними баллами.\n",
        "* Поиск студента по имени и вывод его оценок и среднего балла.\n",
        "\n",
        "\n",
        "\n"
      ],
      "metadata": {
        "id": "k5BzJW5ZeaQN"
      }
    },
    {
      "cell_type": "code",
      "source": [
        "students = {}\n",
        "\n",
        "def add_student(name, grades):\n",
        "    students[name] = grades\n",
        "    print(f\"Студент {name} добавлен.\")\n",
        "\n",
        "def calculate_average(name):\n",
        "    if name in students:\n",
        "        total = sum(students[name])\n",
        "        count = len(students[name])\n",
        "        average = total / count\n",
        "        return average\n",
        "    else:\n",
        "        print(f\"Студент {name} не найден.\")\n",
        "\n",
        "\n",
        "def list_students():\n",
        "    print(\"Список студентов и их средние баллы:\")\n",
        "    for name, grades in students.items():\n",
        "        average = calculate_average(name)\n",
        "        print(f\"{name}: Средний балл = {average:.2f}\")\n",
        "\n",
        "def find_student(name):\n",
        "    if name in students:\n",
        "        grades = students[name]\n",
        "        average = calculate_average(name)\n",
        "        print(f\"Студент: {name}\")\n",
        "        print(f\"Оценки: {grades}\")\n",
        "        print(f\"Средний балл: {average:.2f}\")\n",
        "    else:\n",
        "        print(f\"Студент {name} не найден.\")\n",
        "\n",
        "def menu():\n",
        "    while True:\n",
        "        print(\"Выберите действие:\")\n",
        "        print(\"1) Добавить студента\")\n",
        "        print(\"2) Рассчитать средний балл студента\")\n",
        "        print(\"3) Показать всех студентов\")\n",
        "        print(\"4) Найти студента\")\n",
        "        print(\"5) Выйти\")\n",
        "\n",
        "        choice = input(\"Введите номер действия: \")\n",
        "\n",
        "        if choice == \"1\":\n",
        "            name = input(\"Введите имя студента: \")\n",
        "            grades = list(map(int, input(\"Введите оценки через пробел: \").split()))\n",
        "            add_student(name, grades)\n",
        "        elif choice == \"2\":\n",
        "            name = input(\"Введите имя студента для расчета среднего балла: \")\n",
        "            average = calculate_average(name)\n",
        "            if average:\n",
        "              print(f\"Средний балл {name}: {average:.2f}\")\n",
        "            else:\n",
        "              print(\"Средний балл не найден.\")\n",
        "        elif choice == \"3\":\n",
        "            list_students()\n",
        "        elif choice == \"4\":\n",
        "            name = input(\"Введите имя студента для поиска: \")\n",
        "            find_student(name)\n",
        "        elif choice == \"5\":\n",
        "            print(\"Выход из программы.\")\n",
        "            break\n",
        "        else:\n",
        "            print(\"Неверный выбор. Попробуйте снова.\")\n",
        "\n",
        "menu()\n"
      ],
      "metadata": {
        "id": "cvhlltVbdyoL",
        "colab": {
          "base_uri": "https://localhost:8080/"
        },
        "outputId": "a93cf881-77f8-4cdb-86cb-a5a435226866"
      },
      "execution_count": null,
      "outputs": [
        {
          "output_type": "stream",
          "name": "stdout",
          "text": [
            "\n",
            "Выберите действие:\n",
            "1) Добавить студента\n",
            "2) Рассчитать средний балл студента\n",
            "3) Показать всех студентов\n",
            "4) Найти студента\n",
            "5) Выйти\n",
            "Введите номер действия: 5\n",
            "Выход из программы.\n"
          ]
        }
      ]
    },
    {
      "cell_type": "markdown",
      "source": [
        "# Задание 7\n",
        "\n",
        "\n",
        "**Задача:**\n",
        "\n",
        "Создайте приложение-викторину с командной строкой, которое задает пользователям вопросы по различным темам и отслеживает их результаты.\n",
        "\n",
        "Ключевые особенности:\n",
        "\n",
        "*   Хранение данных о вопросах и ответах на них, а также баллов за каждый вопрос\n",
        "*   Реализуйте функцию для представления вопросов, принятия ответов пользователей и предоставления обратной связи о том, являются ли ответы правильными или неправильными.\n",
        "*  После завершения викторины отобразите общий балл пользователя из числа ответов на вопросы.\n",
        "*  Реализуйте функцию добавления нового вопроса\n",
        "*  Реализуйте функцию перемешивания вопросов, для отображения случайного вопроса\n"
      ],
      "metadata": {
        "id": "iQ8Z-7PYgu1_"
      }
    },
    {
      "cell_type": "code",
      "source": [],
      "metadata": {
        "id": "DhxyYwHwh2V4"
      },
      "execution_count": null,
      "outputs": []
    }
  ]
}