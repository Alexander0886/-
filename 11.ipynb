{
  "nbformat": 4,
  "nbformat_minor": 0,
  "metadata": {
    "colab": {
      "provenance": []
    },
    "kernelspec": {
      "name": "python3",
      "display_name": "Python 3"
    },
    "language_info": {
      "name": "python"
    }
  },
  "cells": [
    {
      "cell_type": "markdown",
      "source": [
        "**ФИО:**"
      ],
      "metadata": {
        "id": "GEsFKJm-ABFp"
      }
    },
    {
      "cell_type": "code",
      "source": [],
      "metadata": {
        "id": "pZCxC6XpP_9D"
      },
      "execution_count": null,
      "outputs": []
    },
    {
      "cell_type": "code",
      "source": [],
      "metadata": {
        "id": "HNmb-yrzQARU"
      },
      "execution_count": null,
      "outputs": []
    },
    {
      "cell_type": "code",
      "execution_count": null,
      "metadata": {
        "id": "wZMLYG_G_-19"
      },
      "outputs": [],
      "source": [
        "Райсов Александр"
      ]
    },
    {
      "cell_type": "markdown",
      "source": [
        "# Задание 1"
      ],
      "metadata": {
        "id": "H4DrYnJjADuZ"
      }
    },
    {
      "cell_type": "markdown",
      "source": [
        "**Описание:** Создайте иерархию классов для разных типов сотрудников в компании. Реализуйте родительский класс Employee и дочерние классы Manager и Developer. Каждый класс должен иметь метод для расчета зарплаты на основе различных критериев класса.\n",
        "\n",
        "\n",
        "Отрабатываемый принцип: Наследование\n",
        "\n"
      ],
      "metadata": {
        "id": "C17FWep-AF4a"
      }
    },
    {
      "cell_type": "code",
      "source": [
        "class Employee:\n",
        "    def __init__(self, name, base_salary):\n",
        "        self.name = namе\n",
        "        self.base_salary = base_salary\n",
        "\n",
        "    def calculate_salary(self):\n",
        "        return self.base_salary\n",
        "\n",
        "\n",
        "class Manager(Employee):\n",
        "    def __init__(self, name, base_salary, bonus):\n",
        "        super().__init__(name, base_salary)\n",
        "        self.bonus = bonus\n",
        "\n",
        "    def calculate_salary(self):\n",
        "        return self.base_salary + self.bonus\n",
        "\n",
        "\n",
        "class Developer(Employee):\n",
        "    def __init__(self, name, base_salary, overtime_hours, hourly_rate):\n",
        "        super().__init__(name, base_salary)\n",
        "        self.overtime_hours = overtime_hours\n",
        "        self.hourly_rate = hourly_rate\n",
        "\n",
        "    def calculate_salary(self):\n",
        "        return self.base_salary + (self.overtime_hours * self.hourly_rate)\n",
        "\n",
        "def main():\n",
        "    print(\"Сотрудники..............\\n\")\n",
        "\n",
        "    # Создаем обычного сотрудника\n",
        "    grigory = Employee(name=\"Александр\", base_salary=50000)\n",
        "\n",
        "    # Создаем менеджера\n",
        "    irina = Manager(name=\"Ирина\", base_salary=70000, bonus=20000)\n",
        "\n",
        "    # Создаем разработчика\n",
        "    djon = Developer(name=\"Джон\", base_salary=60000, overtime_hours=10, hourly_rate=1000)\n",
        "\n",
        "    # Меню для взаимодействия\n",
        "    while True:\n",
        "        print(\"\\nМеню:\")\n",
        "        print(\"1) Узнать зарплату Григория\")\n",
        "        print(\"2) Узнать зарплату Ирины\")\n",
        "        print(\"3) Узнать зарплату Джон\")\n",
        "        print(\"4) Выход\")\n",
        "\n",
        "        choice = input(\"Введите номер действия: \")\n",
        "\n",
        "        if choice == \"1\":\n",
        "            print(f\"\\nЗарплата Григория: {grigory.calculate_salary()} рублей\")\n",
        "        elif choice == \"2\":\n",
        "            print(f\"\\nЗарплата Ирины: {irina.calculate_salary()} рублей\")\n",
        "        elif choice == \"3\":\n",
        "            print(f\"\\nЗарплата Джона: {djon.calculate_salary()} рублей\")\n",
        "        elif choice == \"4\":\n",
        "            print(\"\\nВыход из программы.\")\n",
        "            break\n",
        "        else:\n",
        "            print(\"\\nОшибка n239\")\n",
        "\n",
        "if __name__ == \"__main__\":\n",
        "    main()\n"
      ],
      "metadata": {
        "id": "aexGXzqCAFH7",
        "colab": {
          "base_uri": "https://localhost:8080/"
        },
        "outputId": "ede18bcf-4e9e-4436-acd5-5ab0b7cde74a"
      },
      "execution_count": null,
      "outputs": [
        {
          "output_type": "stream",
          "name": "stdout",
          "text": [
            "Сотрудники..............\n",
            "\n",
            "\n",
            "Меню:\n",
            "1) Узнать зарплату Григория\n",
            "2) Узнать зарплату Ирины\n",
            "3) Узнать зарплату Джон\n",
            "4) Выход\n",
            "Введите номер действия: 1\n",
            "\n",
            "Зарплата Григория: 50000 рублей\n",
            "\n",
            "Меню:\n",
            "1) Узнать зарплату Григория\n",
            "2) Узнать зарплату Ирины\n",
            "3) Узнать зарплату Джон\n",
            "4) Выход\n",
            "Введите номер действия: 3\n",
            "\n",
            "Зарплата Джона: 70000 рублей\n",
            "\n",
            "Меню:\n",
            "1) Узнать зарплату Григория\n",
            "2) Узнать зарплату Ирины\n",
            "3) Узнать зарплату Джон\n",
            "4) Выход\n",
            "Введите номер действия: 4\n",
            "\n",
            "Выход из программы.\n"
          ]
        }
      ]
    },
    {
      "cell_type": "markdown",
      "source": [
        "# Задание 2"
      ],
      "metadata": {
        "id": "ERAi0TG5BI6v"
      }
    },
    {
      "cell_type": "markdown",
      "source": [
        "**Описание:** Создайте иерархию классов для различных типов транспортных средств (Необходим один родительский класс и 3 дочерних). Реализуйте метод, который позволяет каждому транспортному средству возвращать собственное описание (Метод в каждом классе должен иметь одинаковое название). Продемонстрируйте вызов данного метода для каждого транспортного средства.\n",
        "\n",
        "\n",
        "Отрабатываемый принцип: Полиморфизм"
      ],
      "metadata": {
        "id": "sJ3k7ZcgBK87"
      }
    },
    {
      "cell_type": "code",
      "source": [
        "# Родительский класс \"ТС\"\n",
        "class Vehicle:\n",
        "    def __init__(self, name):\n",
        "        self.name = name\n",
        "\n",
        "    def describe(self):\n",
        "        # Метод переопределения в дочерних классах\n",
        "        return f\"{self.name} - это транспортное средство.\"\n",
        "\n",
        "\n",
        "# \"Автомобиль\"\n",
        "class Car(Vehicle):\n",
        "    def __init__(self, name, max_speed):\n",
        "        super().__init__(name)  # Передаем родителю название\n",
        "        self.max_speed = max_speed\n",
        "\n",
        "    def describe(self):\n",
        "        # переопределение для авто\n",
        "        return f\"{self.name} - это автомобиль с максимальной скоростью {self.max_speed} км/ч.\"\n",
        "\n",
        "\n",
        "# \"Велосипед\"\n",
        "class Bicycle(Vehicle):\n",
        "    def __init__(self, name, gear_count):\n",
        "        super().__init__(name)\n",
        "        self.gear_count = gear_count\n",
        "\n",
        "    def describe(self):\n",
        "        return f\"{self.name} - это велосипед с {self.gear_count} передачами.\"\n",
        "\n",
        "\n",
        "# Дочерний класс \"Самолёт\"\n",
        "class Airplane(Vehicle):\n",
        "    def __init__(self, name, airline):\n",
        "        super().__init__(name)\n",
        "        self.airline = airline\n",
        "\n",
        "    def describe(self):\n",
        "        return f\"{self.name} - это самолёт, используемый авиакомпанией {self.airline}.\"\n",
        "\n",
        "def main():\n",
        "\n",
        "    # обьекты каждого ТС\n",
        "    car = Car(name=\"Toyota\", max_speed=220)\n",
        "    bicycle = Bicycle(name=\"Zil\", gear_count=11)\n",
        "    airplane = Airplane(name=\"космолет240\", airline=\"Аэрофлот\")\n",
        "\n",
        "    # Список всех ТС\n",
        "    vehicles = [car, bicycle, airplane]\n",
        "\n",
        "    # метод для каждого (describe)\n",
        "    for vehicle in vehicles:\n",
        "        print(vehicle.describe())\n",
        "\n",
        "if __name__ == \"__main__\":\n",
        "    main()\n"
      ],
      "metadata": {
        "id": "WOFOZQmDBKf4",
        "colab": {
          "base_uri": "https://localhost:8080/"
        },
        "outputId": "1ba5a250-127e-4b1b-9c8d-580bb7a3e56b"
      },
      "execution_count": null,
      "outputs": [
        {
          "output_type": "stream",
          "name": "stdout",
          "text": [
            "Toyota - это автомобиль с максимальной скоростью 220 км/ч.\n",
            "Zil - это велосипед с 11 передачами.\n",
            "космолет240 - это самолёт, используемый авиакомпанией Аэрофлот.\n"
          ]
        }
      ]
    },
    {
      "cell_type": "markdown",
      "source": [
        "# Задание 3"
      ],
      "metadata": {
        "id": "7E_SJXMJBvD4"
      }
    },
    {
      "cell_type": "markdown",
      "source": [
        "Онлайн-магазин:\n",
        "- Создайте модель для онлайн-магазина с классами Product, Order, Customer, и ShoppingCart.\n",
        "- Product включает информацию о цене, наличии на складе и категории товара.\n",
        "Order обрабатывает процесс покупки, включая расчет цены с учетом скидок и налогов.\n",
        "- Customer управляет информацией о пользователе и его истории заказов.\n",
        "- ShoppingCart позволяет добавлять, удалять и обновлять количество товаров перед оформлением заказа.\n"
      ],
      "metadata": {
        "id": "dd1mwKj_BxHa"
      }
    },
    {
      "cell_type": "code",
      "source": [
        "class Product:\n",
        "    def __init__(self, name, price, stock):\n",
        "        self.name = name  # Название\n",
        "        self.price = price  # Цена\n",
        "        self.stock = stock  # Количество\n",
        "\n",
        "    def is_available(self, quantity):\n",
        "        # Проверка количества\n",
        "        return self.stock >= quantity\n",
        "\n",
        "    def reduce_stock(self, quantity):\n",
        "        # уменьшение количества\n",
        "        if self.is_available(quantity):\n",
        "            self.stock -= quantity\n",
        "class Customer:\n",
        "    def __init__(self, name):\n",
        "        self.name = name  # Имя клиента\n",
        "        self.order_history = []  # История заказов\n",
        "class Shopping\n",
        "\n",
        "\n",
        "\n",
        "\n",
        "\n",
        ".......\n",
        "\n",
        "def main():\n",
        "....\n",
        "..\n",
        " while True:\n",
        "        print(\"\\nМеню:\")\n",
        "        print(\"1) Показать товары\")\n",
        "        print(\"2) Добавить товар в корзину\")\n",
        "        print(\"3) Показать корзину\")\n",
        "        print(\"4) Оформить заказ\")\n",
        "        print(\"6) Выйти\")\n",
        "\n",
        "\n",
        "if __name__ == \"__main__\":\n",
        "    main()"
      ],
      "metadata": {
        "id": "wkCcv_K-Bwdv"
      },
      "execution_count": null,
      "outputs": []
    },
    {
      "cell_type": "markdown",
      "source": [
        "# Задание 4"
      ],
      "metadata": {
        "id": "ih7iPlYfB7lL"
      }
    },
    {
      "cell_type": "markdown",
      "source": [
        "Симулятор космического корабля:\n",
        "- Создайте симулятор управления космическим кораблем с классами SpaceShip, CrewMember, и Mission.\n",
        "- SpaceShip имеет атрибуты для управления топливом, состоянием корпуса, и текущей скоростью.\n",
        "- CrewMember контролирует здоровье, навыки, и роли в команде (например, пилот, инженер).\n",
        "- Mission определяет цели, ресурсы, и возможные события (например, аварии, встречи с астероидами)."
      ],
      "metadata": {
        "id": "zLwqVCbpCBvc"
      }
    },
    {
      "cell_type": "code",
      "source": [],
      "metadata": {
        "id": "4NyrOOy8B9ED"
      },
      "execution_count": null,
      "outputs": []
    },
    {
      "cell_type": "markdown",
      "source": [
        "# Дополнительно:"
      ],
      "metadata": {
        "id": "F7mRVsZjCXk0"
      }
    },
    {
      "cell_type": "markdown",
      "source": [
        "**Описание:** создайте консольную версию игры крестики-нолики, используя классы"
      ],
      "metadata": {
        "id": "X4Lkf86UCc1h"
      }
    },
    {
      "cell_type": "code",
      "source": [],
      "metadata": {
        "id": "x9OxpNsyCcUo"
      },
      "execution_count": null,
      "outputs": []
    }
  ]
}