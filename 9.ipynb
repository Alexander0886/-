{
  "nbformat": 4,
  "nbformat_minor": 0,
  "metadata": {
    "colab": {
      "provenance": []
    },
    "kernelspec": {
      "name": "python3",
      "display_name": "Python 3"
    },
    "language_info": {
      "name": "python"
    }
  },
  "cells": [
    {
      "cell_type": "markdown",
      "source": [
        "ФИО"
      ],
      "metadata": {
        "id": "8hJfL9b2l439"
      }
    },
    {
      "cell_type": "code",
      "source": [
        "Райсов Александр"
      ],
      "metadata": {
        "id": "wRnqvYOkl6EX"
      },
      "execution_count": null,
      "outputs": []
    },
    {
      "cell_type": "markdown",
      "source": [
        "# Дисклеймер"
      ],
      "metadata": {
        "id": "weOtPwPQmgpD"
      }
    },
    {
      "cell_type": "markdown",
      "source": [
        "В данной практике вам необходимо применить все ваши знания по темам:\n",
        "\n",
        "- Функции\n",
        "- Словари\n",
        "- Списки\n",
        "- Множества\n",
        "- Условные конструкции\n",
        "- Запросы\n",
        "\n",
        "и все что было изучено на прошлых практических занятиях\n",
        "\n",
        "В каждом задании кратко описаны функции, которые необходимо реализовать, детали реализации вы должны продумать самостоятельно.\n",
        "\n",
        "# **Дисклеймер 2**\n",
        "\n",
        "В данной практике также учитывается критерий: чистота и читаемость кода"
      ],
      "metadata": {
        "id": "LznB3uscmjDa"
      }
    },
    {
      "cell_type": "markdown",
      "source": [
        "# Задание 0"
      ],
      "metadata": {
        "id": "7nSJIqkTvC_C"
      }
    },
    {
      "cell_type": "markdown",
      "source": [
        "Создайте функцию по нахождению уникальных элементов из двух списков\n",
        "\n",
        "\n",
        "\n",
        "```\n",
        "a = [1, 2, 3, 4]\n",
        "b = [3, 4, 5, 6]\n",
        "```\n",
        "\n"
      ],
      "metadata": {
        "id": "exACjTiVvGUe"
      }
    },
    {
      "cell_type": "code",
      "source": [
        "a = [1, 2, 3, 4]\n",
        "b = [3, 4, 5, 6]\n",
        "def find_unique_elements(list1, list2):\n",
        "    unique_in_list1 = [item for item in list1 if item not in list2]\n",
        "    unique_in_list2 = [item for item in list2 if item not in  list1]\n",
        "    unique_elements = unique_in_list1 + unique_in_list2\n",
        "    return unique_elements\n",
        "\n",
        "print(find_unique_elements(a, b))\n"
      ],
      "metadata": {
        "id": "V_31CrfGbH7V",
        "colab": {
          "base_uri": "https://localhost:8080/"
        },
        "outputId": "b87225ad-a3d4-4a65-a08b-741916a74351"
      },
      "execution_count": null,
      "outputs": [
        {
          "output_type": "stream",
          "name": "stdout",
          "text": [
            "[1, 2, 5, 6]\n"
          ]
        }
      ]
    },
    {
      "cell_type": "markdown",
      "source": [
        "# Задание 1"
      ],
      "metadata": {
        "id": "SVWNlBALpCNo"
      }
    },
    {
      "cell_type": "markdown",
      "source": [
        "Симулятор виртуального питомца\n",
        "\n",
        "Цель: создать виртуальный симулятор домашних животных, в котором пользователи смогут заводить питомцев и ухаживать за ними.\n",
        "\n",
        "Требования:\n",
        "\n",
        "- Функция для усыновления питомца (имя, тип, возраст).\n",
        "- Функция для того, чтобы покормить питомца, поиграть с ним или уложить его спать.\n",
        "- Функция для отображения состояния питомца (голод, радость, энергия)."
      ],
      "metadata": {
        "id": "RcKA-VEqpC7f"
      }
    },
    {
      "cell_type": "code",
      "source": [
        "class VirtualPet:\n",
        "    def init(self, name, pet_type, age):\n",
        "        self.name = name\n",
        "        self.pet_type = pet_type\n",
        "        self.age = age\n",
        "        self.hunger = 50\n",
        "        self.happiness = 50\n",
        "        self.energy = 50\n",
        "\n",
        "    def feed(self):\n",
        "        self.hunger -= 10\n",
        "        if self.hunger < 0:\n",
        "            self.hunger = 0\n",
        "        print(f\"{self.name} покушал. Голод: {self.hunger}\")\n",
        "\n",
        "    def play(self):\n",
        "        if self.energy > 10:\n",
        "            self.happiness += 10\n",
        "            self.hunger += 10\n",
        "            self.energy -= 10\n",
        "            if self.happiness > 100:\n",
        "                self.happiness = 100\n",
        "            if self.hunger > 100:\n",
        "                self.hunger = 100\n",
        "            print(f\"{self.name} поиграл. Радость: {self.happiness}, Голод: {self.hunger}, Энергия: {self.energy}\")\n",
        "        else:\n",
        "            print(f\"{self.name} слишком устал, чтобы играть.\")\n",
        "\n",
        "    def sleep(self):\n",
        "        self.energy += 20\n",
        "        if self.energy > 100:\n",
        "            self.energy = 100\n",
        "        self.hunger += 5\n",
        "        if self.hunger > 100:\n",
        "            self.hunger = 100\n",
        "        print(f\"{self.name} поспал. Энергия: {self.energy}, Голод: {self.hunger}\")\n",
        "\n",
        "    def status(self):\n",
        "        print(f\"{self.name} (тип: {self.pet_type}, возраст: {self.age})\")\n",
        "        print(f\"Голод: {self.hunger}\")\n",
        "        print(f\"Радость: {self.happiness}\")\n",
        "        print(f\"Энергия: {self.energy}\")\n",
        "\n",
        "\n",
        "print(\"Привет! Давай заведем питомца!\")\n",
        "name = input(\"Имя питомца: \")\n",
        "pet_type = input(\"Тип питомца: \")\n",
        "age = input(\"Возраст питомца: \")\n",
        "\n",
        "pet = VirtualPet(name, pet_type, age)\n",
        "\n",
        "while True:\n",
        "    print(\"\\nВыберите действие:\")\n",
        "    print(\"1. Покормить\")\n",
        "    print(\"2. Поиграть\")\n",
        "    print(\"3. Уложить спать\")\n",
        "    print(\"4. Посмотреть состояние\")\n",
        "    print(\"5. Выйти\")\n",
        "\n",
        "    choice = input(\"Введите номер действия: \")\n",
        "\n",
        "    if choice == \"1\":\n",
        "        pet.feed()\n",
        "    elif choice == \"2\":\n",
        "        pet.play()\n",
        "    elif choice == \"3\":\n",
        "        pet.sleep()\n",
        "    elif choice == \"4\":\n",
        "        pet.status()\n",
        "    elif choice == \"5\":\n",
        "        print(f\"Пока! {pet.name} будет скучать!\")\n",
        "        break\n",
        "    else:\n",
        "        print(\"Неправильный выбор. Попробуйте снова.\")"
      ],
      "metadata": {
        "id": "hE7mF-HXpJLO",
        "colab": {
          "base_uri": "https://localhost:8080/",
          "height": 280
        },
        "outputId": "5abd2469-4fb8-440f-e022-6ba9a0c50eb4"
      },
      "execution_count": null,
      "outputs": [
        {
          "name": "stdout",
          "output_type": "stream",
          "text": [
            "Привет! Давай заведем питомца!\n",
            "Имя питомца: мася\n",
            "Тип питомца: кошка\n",
            "Возраст питомца: 2\n"
          ]
        },
        {
          "output_type": "error",
          "ename": "TypeError",
          "evalue": "VirtualPet() takes no arguments",
          "traceback": [
            "\u001b[0;31m---------------------------------------------------------------------------\u001b[0m",
            "\u001b[0;31mTypeError\u001b[0m                                 Traceback (most recent call last)",
            "\u001b[0;32m<ipython-input-7-cebe85f357d4>\u001b[0m in \u001b[0;36m<cell line: 50>\u001b[0;34m()\u001b[0m\n\u001b[1;32m     48\u001b[0m \u001b[0mage\u001b[0m \u001b[0;34m=\u001b[0m \u001b[0minput\u001b[0m\u001b[0;34m(\u001b[0m\u001b[0;34m\"Возраст питомца: \"\u001b[0m\u001b[0;34m)\u001b[0m\u001b[0;34m\u001b[0m\u001b[0;34m\u001b[0m\u001b[0m\n\u001b[1;32m     49\u001b[0m \u001b[0;34m\u001b[0m\u001b[0m\n\u001b[0;32m---> 50\u001b[0;31m \u001b[0mpet\u001b[0m \u001b[0;34m=\u001b[0m \u001b[0mVirtualPet\u001b[0m\u001b[0;34m(\u001b[0m\u001b[0mname\u001b[0m\u001b[0;34m,\u001b[0m \u001b[0mpet_type\u001b[0m\u001b[0;34m,\u001b[0m \u001b[0mage\u001b[0m\u001b[0;34m)\u001b[0m\u001b[0;34m\u001b[0m\u001b[0;34m\u001b[0m\u001b[0m\n\u001b[0m\u001b[1;32m     51\u001b[0m \u001b[0;34m\u001b[0m\u001b[0m\n\u001b[1;32m     52\u001b[0m \u001b[0;32mwhile\u001b[0m \u001b[0;32mTrue\u001b[0m\u001b[0;34m:\u001b[0m\u001b[0;34m\u001b[0m\u001b[0;34m\u001b[0m\u001b[0m\n",
            "\u001b[0;31mTypeError\u001b[0m: VirtualPet() takes no arguments"
          ]
        }
      ]
    },
    {
      "cell_type": "markdown",
      "source": [
        "# Задание 2"
      ],
      "metadata": {
        "id": "qZ7qFQnmssNd"
      }
    },
    {
      "cell_type": "markdown",
      "source": [
        "Рыцарь и дракон\n",
        "\n",
        "Цель: создать небольшую игру, в которой вам необходимо играть за рыцаря и сразиться с драконом\n",
        "\n",
        "Требования:\n",
        "\n",
        "- Создание персонажа (имя, информация о доспехах, оружии, урон, здоровье)\n",
        "- Управление персонажем и мини сюжет\n",
        "- Создание дракона (Имя, информация о здоровье и уроне)\n",
        "- Боевая система (нанесение и получение урона, урон должен быть случайным в заданном диапазоне)\n",
        "- Реализовать бой между драконом и рыцарем"
      ],
      "metadata": {
        "id": "UaccTe7ltNvg"
      }
    },
    {
      "cell_type": "code",
      "source": [],
      "metadata": {
        "id": "LCcxp5Q0srjY"
      },
      "execution_count": null,
      "outputs": []
    },
    {
      "cell_type": "markdown",
      "source": [
        "# Задание 3\n"
      ],
      "metadata": {
        "id": "N8oFiEXol3e2"
      }
    },
    {
      "cell_type": "markdown",
      "source": [
        "Цель - создать менеджера команды Pokémon, который позволит пользователям:\n",
        "\n",
        "- Добавлять покемонов в свою команду. (если такого покемона еще нет в команде)\n",
        "- Удалять покемонов из их команды.\n",
        "- Просматривать подробную информацию обо всех покемонах в команде.\n",
        "- Находить покемона по имени.\n",
        "- Устраивать тренировочный бой между двумя покемонами\n",
        "\n",
        "Для данной задачи используйте: https://pokeapi.co/\n"
      ],
      "metadata": {
        "id": "9p4WQG_Vl7wB"
      }
    },
    {
      "cell_type": "code",
      "source": [],
      "metadata": {
        "id": "NnGYp1MTqi5k"
      },
      "execution_count": null,
      "outputs": []
    }
  ]
}